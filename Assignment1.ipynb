{
 "cells": [
  {
   "cell_type": "code",
   "execution_count": 1,
   "metadata": {},
   "outputs": [
    {
     "name": "stdout",
     "output_type": "stream",
     "text": [
      "[1512, 1519, 1526, 1533, 1547, 1554, 1561, 1568, 1582, 1589, 1596, 1603, 1617, 1624, 1631, 1638, 1652, 1659, 1666, 1673, 1687, 1694, 1701, 1708, 1722, 1729, 1736, 1743, 1757, 1764, 1771, 1778, 1792, 1799, 1806, 1813, 1827, 1834, 1841, 1848, 1862, 1869, 1876, 1883, 1897, 1904, 1911, 1918, 1932, 1939, 1946, 1953, 1967, 1974, 1981, 1988, 2002, 2009, 2016, 2023, 2037, 2044, 2051, 2058, 2072, 2079, 2086, 2093, 2107, 2114, 2121, 2128, 2142, 2149, 2156, 2163, 2177, 2184, 2191, 2198, 2212, 2219, 2226, 2233, 2247, 2254, 2261, 2268, 2282, 2289, 2296, 2303, 2317, 2324, 2331, 2338, 2352, 2359, 2366, 2373, 2387, 2394, 2401, 2408, 2422, 2429, 2436, 2443, 2457, 2464, 2471, 2478, 2492, 2499, 2506, 2513, 2527, 2534, 2541, 2548, 2562, 2569, 2576, 2583, 2597, 2604, 2611, 2618, 2632, 2639, 2646, 2653, 2667, 2674, 2681, 2688, 2702, 2709, 2716, 2723, 2737, 2744, 2751, 2758, 2772, 2779, 2786, 2793, 2807, 2814, 2821, 2828, 2842, 2849, 2856, 2863, 2877, 2884, 2891, 2898, 2912, 2919, 2926, 2933, 2947, 2954, 2961, 2968, 2982, 2989, 2996, 3003, 3017, 3024, 3031, 3038, 3052, 3059, 3066, 3073, 3087, 3094, 3101, 3108, 3122, 3129, 3136, 3143, 3157, 3164, 3171, 3178, 3192, 3199]\n"
     ]
    }
   ],
   "source": [
    "x=[]\n",
    "for i in range(1500,3200):\n",
    "    if i%7==0 and i%5!=0:\n",
    "        x.append(i)\n",
    "print(x)"
   ]
  },
  {
   "cell_type": "code",
   "execution_count": 2,
   "metadata": {},
   "outputs": [
    {
     "name": "stdout",
     "output_type": "stream",
     "text": [
      "enter your namemanjunath hegde\n",
      "hegde\n",
      "manjunath\n"
     ]
    }
   ],
   "source": [
    "s=input('enter your name')\n",
    "def reverse(s):\n",
    "    b=s.split(\" \")\n",
    "    c=b[::-1]\n",
    "    for i in c:\n",
    "        print(i)\n",
    "\n",
    "        reverse(s) "
   ]
  },
  {
   "cell_type": "code",
   "execution_count": 2,
   "metadata": {},
   "outputs": [
    {
     "name": "stdout",
     "output_type": "stream",
     "text": [
      "904.752\n"
     ]
    }
   ],
   "source": [
    "r=6\n",
    "v=(4/3)*3.1415*r**3\n",
    "print(v)"
   ]
  },
  {
   "cell_type": "code",
   "execution_count": 5,
   "metadata": {},
   "outputs": [
    {
     "name": "stdout",
     "output_type": "stream",
     "text": [
      "enter comma seperated numbers76,91,8\n",
      "['76', '91', '8']\n"
     ]
    },
    {
     "data": {
      "text/plain": [
       "list"
      ]
     },
     "execution_count": 5,
     "metadata": {},
     "output_type": "execute_result"
    }
   ],
   "source": [
    "a=input('enter comma seperated numbers')\n",
    "b=a.split(\",\")\n",
    "print(b)\n",
    "type(b)"
   ]
  },
  {
   "cell_type": "code",
   "execution_count": 3,
   "metadata": {},
   "outputs": [
    {
     "name": "stdout",
     "output_type": "stream",
     "text": [
      "*\n",
      "**\n",
      "***\n",
      "****\n",
      "*****\n",
      "******\n",
      "*****\n",
      "****\n",
      "***\n",
      "**\n",
      "*\n"
     ]
    }
   ],
   "source": [
    "def pat1(n):\n",
    "    for i in range(1,n):\n",
    "        print(\"*\"*i)\n",
    "pat1(6)\n",
    "def pat2(m):\n",
    "    for j in range(m,0,-1):\n",
    "        print(\"*\"*j)\n",
    "pat2(6)    \n"
   ]
  },
  {
   "cell_type": "code",
   "execution_count": 4,
   "metadata": {},
   "outputs": [
    {
     "name": "stdout",
     "output_type": "stream",
     "text": [
      "enter wordacadgild\n"
     ]
    },
    {
     "data": {
      "text/plain": [
       "'dligdaca'"
      ]
     },
     "execution_count": 4,
     "metadata": {},
     "output_type": "execute_result"
    }
   ],
   "source": [
    "word=input('enter word')\n",
    "word[::-1]"
   ]
  },
  {
   "cell_type": "code",
   "execution_count": 6,
   "metadata": {},
   "outputs": [
    {
     "name": "stdout",
     "output_type": "stream",
     "text": [
      "WE, THE PEOPLE OF INDIA,\n",
      "      having solemnly resolved to constitute India into a SOVEREIGN, !\n",
      "\t    SOCIALIST, SECULAR, DEMOCRATIC REPUBLIC\n",
      "\t     and to secure to all its citizens\n"
     ]
    }
   ],
   "source": [
    "print(\"WE, THE PEOPLE OF INDIA,\\n      having solemnly resolved to constitute India into a SOVEREIGN, !\\n\\t    SOCIALIST, SECULAR, DEMOCRATIC REPUBLIC\\n\\t     and to secure to all its citizens\")"
   ]
  },
  {
   "cell_type": "code",
   "execution_count": null,
   "metadata": {},
   "outputs": [],
   "source": []
  }
 ],
 "metadata": {
  "kernelspec": {
   "display_name": "Python 3",
   "language": "python",
   "name": "python3"
  },
  "language_info": {
   "codemirror_mode": {
    "name": "ipython",
    "version": 3
   },
   "file_extension": ".py",
   "mimetype": "text/x-python",
   "name": "python",
   "nbconvert_exporter": "python",
   "pygments_lexer": "ipython3",
   "version": "3.6.5"
  }
 },
 "nbformat": 4,
 "nbformat_minor": 2
}
